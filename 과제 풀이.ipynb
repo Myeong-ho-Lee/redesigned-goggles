{
 "cells": [
  {
   "cell_type": "code",
   "execution_count": 3,
   "id": "b1014b28-38ef-4044-8568-2654dc041d93",
   "metadata": {},
   "outputs": [
    {
     "name": "stdout",
     "output_type": "stream",
     "text": [
      "200 + 300 + 400 = 900\n"
     ]
    }
   ],
   "source": [
    "print(200, '+', 300, '+', 400, '=', 200+300+400)"
   ]
  },
  {
   "cell_type": "code",
   "execution_count": 5,
   "id": "be8278ff-5606-4720-9e65-39facbca6e01",
   "metadata": {},
   "outputs": [
    {
     "name": "stdout",
     "output_type": "stream",
     "text": [
      "30 60\n"
     ]
    }
   ],
   "source": [
    "width, height = 30, 60\n",
    "print(width, height)"
   ]
  },
  {
   "cell_type": "code",
   "execution_count": 13,
   "id": "b7cc6483-acc3-4e5a-89c5-0d02623641cf",
   "metadata": {},
   "outputs": [
    {
     "name": "stdout",
     "output_type": "stream",
     "text": [
      "10\n"
     ]
    }
   ],
   "source": [
    "for i in range(1,11):\n",
    "    i + i\n",
    "print(i)"
   ]
  },
  {
   "cell_type": "code",
   "execution_count": 14,
   "id": "af2ddcac-a8ee-4d29-8894-21acb2664cf3",
   "metadata": {},
   "outputs": [
    {
     "name": "stdout",
     "output_type": "stream",
     "text": [
      "3628800\n"
     ]
    }
   ],
   "source": [
    "s = 1\n",
    "for i in range(1, 11):\n",
    "    s *= i\n",
    "print(s)"
   ]
  },
  {
   "cell_type": "code",
   "execution_count": 15,
   "id": "b4be5305-168e-483e-94f5-3ec5968d0ca3",
   "metadata": {},
   "outputs": [
    {
     "name": "stdout",
     "output_type": "stream",
     "text": [
      "32.0\n",
      "50.0\n",
      "68.0\n",
      "86.0\n",
      "104.0\n",
      "122.0\n"
     ]
    }
   ],
   "source": [
    "for i in range(0, 51, 10):\n",
    "    print((9/5) * i + 32)"
   ]
  },
  {
   "cell_type": "code",
   "execution_count": 16,
   "id": "61f67002-8504-4449-93a7-906fdba81153",
   "metadata": {},
   "outputs": [
    {
     "name": "stdout",
     "output_type": "stream",
     "text": [
      "섭씨 \t 화씨\n",
      "0 \t 32.0\n",
      "10 \t 50.0\n",
      "20 \t 68.0\n",
      "30 \t 86.0\n",
      "40 \t 104.0\n",
      "50 \t 122.0\n"
     ]
    }
   ],
   "source": [
    "print(\"섭씨\", \"\\t\", \"화씨\")\n",
    "\n",
    "for i in range(0, 6):\n",
    "    cel = i * 10\n",
    "    fah = (9/5) * cel +32\n",
    "    print(cel,\"\\t\", fah)"
   ]
  },
  {
   "cell_type": "code",
   "execution_count": 17,
   "id": "065b02ab-2e10-41a2-afc8-3bee6b73785f",
   "metadata": {},
   "outputs": [
    {
     "name": "stdout",
     "output_type": "stream",
     "text": [
      "a \t n \t a ** n\n",
      "2 \t 2 \t 4\n",
      "3 \t 2 \t 9\n",
      "4 \t 2 \t 16\n",
      "5 \t 2 \t 25\n",
      "6 \t 2 \t 36\n"
     ]
    }
   ],
   "source": [
    "!python square_table.py"
   ]
  },
  {
   "cell_type": "markdown",
   "id": "2a2252d4-f3dc-4747-bb22-2a38797d692d",
   "metadata": {},
   "source": [
    "# 3.3"
   ]
  },
  {
   "cell_type": "code",
   "execution_count": 18,
   "id": "cb1486bf-a8b2-4284-a19c-fdf3deccd04b",
   "metadata": {},
   "outputs": [
    {
     "name": "stdout",
     "output_type": "stream",
     "text": [
      "2 4 8 16 32 64 128 256 512 1024 "
     ]
    }
   ],
   "source": [
    "for i in range(0,10):\n",
    "    print(2<<i, end=' ')"
   ]
  },
  {
   "cell_type": "markdown",
   "id": "e185cc00-12f2-49a4-83ec-e9935b82a2df",
   "metadata": {},
   "source": [
    "# 3.4"
   ]
  },
  {
   "cell_type": "code",
   "execution_count": 20,
   "id": "0fec02b6-2802-4403-8df4-4b11826d9639",
   "metadata": {},
   "outputs": [
    {
     "name": "stdin",
     "output_type": "stream",
     "text": [
      "정수를 입력하세요 10\n"
     ]
    },
    {
     "name": "stdout",
     "output_type": "stream",
     "text": [
      "입력된 정수는 0에서 100의 범위 안에 있는 짝수인가요? True\n"
     ]
    }
   ],
   "source": [
    "a = int(input('정수를 입력하세요'))\n",
    "\n",
    "print(\"입력된 정수는 0에서 100의 범위 안에 있는 짝수인가요?\",\n",
    "      (0 <= a < 100) and (a % 2 ==0))"
   ]
  },
  {
   "cell_type": "code",
   "execution_count": 21,
   "id": "c79bd46b-c81e-406f-8090-7db1bf12a109",
   "metadata": {},
   "outputs": [
    {
     "name": "stdout",
     "output_type": "stream",
     "text": [
      "입력된 정수는 0에서 100의 범위 안에 있는 짝수인가요? True\n"
     ]
    }
   ],
   "source": [
    "print(\"입력된 정수는 0에서 100의 범위 안에 있는 짝수인가요?\",\n",
    "      (0 <= a < 100) and (a % 2 ==0))"
   ]
  },
  {
   "cell_type": "code",
   "execution_count": 22,
   "id": "1a6a239c-29ea-46aa-8008-51d9c96fd6c3",
   "metadata": {},
   "outputs": [
    {
     "name": "stdout",
     "output_type": "stream",
     "text": [
      "0b101\n"
     ]
    }
   ],
   "source": [
    "print(bin(5))"
   ]
  },
  {
   "cell_type": "code",
   "execution_count": 23,
   "id": "bdb7a68c-8999-4865-b8bf-0ad30e770038",
   "metadata": {},
   "outputs": [
    {
     "name": "stdout",
     "output_type": "stream",
     "text": [
      "0b10011\n"
     ]
    }
   ],
   "source": [
    "print(bin(19))"
   ]
  },
  {
   "cell_type": "code",
   "execution_count": 24,
   "id": "417bf8fd-39ce-48d1-903a-8f48a9947242",
   "metadata": {},
   "outputs": [
    {
     "name": "stdin",
     "output_type": "stream",
     "text": [
      "세 자리 정수를 입력하시오 :  349\n"
     ]
    },
    {
     "name": "stdout",
     "output_type": "stream",
     "text": [
      "943\n"
     ]
    }
   ],
   "source": [
    "num=int(input(\"세 자리 정수를 입력하시오 : \"))\n",
    "reverse_num=(num%10*100+(num%100)//10*10+num//100)\n",
    "print(reverse_num)"
   ]
  },
  {
   "cell_type": "code",
   "execution_count": 26,
   "id": "719de1e9-d746-480d-bbba-735c2f9e00a2",
   "metadata": {},
   "outputs": [
    {
     "name": "stdin",
     "output_type": "stream",
     "text": [
      "세 자리 정수를 입력하시오 :  9372\n"
     ]
    },
    {
     "data": {
      "text/plain": [
       "2739"
      ]
     },
     "execution_count": 26,
     "metadata": {},
     "output_type": "execute_result"
    }
   ],
   "source": [
    "num=int(input(\"세 자리 정수를 입력하시오 : \"))\n",
    "int(str(num)[::-1])"
   ]
  },
  {
   "cell_type": "code",
   "execution_count": null,
   "id": "8c1c8ab4-abe0-4c83-9bd9-82a3435372c8",
   "metadata": {},
   "outputs": [],
   "source": []
  }
 ],
 "metadata": {
  "kernelspec": {
   "display_name": "Python 3 (ipykernel)",
   "language": "python",
   "name": "python3"
  },
  "language_info": {
   "codemirror_mode": {
    "name": "ipython",
    "version": 3
   },
   "file_extension": ".py",
   "mimetype": "text/x-python",
   "name": "python",
   "nbconvert_exporter": "python",
   "pygments_lexer": "ipython3",
   "version": "3.11.2"
  }
 },
 "nbformat": 4,
 "nbformat_minor": 5
}
